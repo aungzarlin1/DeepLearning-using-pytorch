{
 "cells": [
  {
   "cell_type": "code",
   "execution_count": 1,
   "id": "02100f95-0746-4566-ac53-1981201b5b2b",
   "metadata": {},
   "outputs": [],
   "source": [
    "# import library\n",
    "\n",
    "import torch\n",
    "import numpy as np\n",
    "import sys\n",
    "from torch.utils.data import TensorDataset\n",
    "from torch.utils.data import DataLoader\n",
    "import torch.nn as nn"
   ]
  },
  {
   "cell_type": "code",
   "execution_count": 2,
   "id": "a35813cb-e94e-41b5-8a24-a57ba6e6012c",
   "metadata": {},
   "outputs": [
    {
     "name": "stdout",
     "output_type": "stream",
     "text": [
      "Device: cuda\n"
     ]
    }
   ],
   "source": [
    "# check gpu \n",
    "device = torch.device(\"cuda\" if torch.cuda.is_available() else \"cpu\")\n",
    "print(\"Device:\", device)"
   ]
  },
  {
   "cell_type": "code",
   "execution_count": 3,
   "id": "7b4ef72c-89c7-4a2b-8163-cae3a2a7d86b",
   "metadata": {},
   "outputs": [
    {
     "name": "stdout",
     "output_type": "stream",
     "text": [
      "input shape : torch.Size([15, 3])\n",
      "target shape torch.Size([15, 2])\n"
     ]
    }
   ],
   "source": [
    "# Input\n",
    "\n",
    "X_train = np.array([[73 , 67 , 43 ],\n",
    "                    [91 , 88 , 64 ],\n",
    "                    [87 , 134, 58 ],\n",
    "                    [102, 43 , 37 ],\n",
    "                    [69 , 96 , 70 ],\n",
    "                    [73 , 67 , 43 ],\n",
    "                    [91 , 88 , 64 ],\n",
    "                    [87 , 134, 58 ],\n",
    "                    [102, 43 , 37 ],\n",
    "                    [69 , 96 , 70 ],\n",
    "                    [73 , 67 , 43 ],\n",
    "                    [91 , 88 , 64 ],\n",
    "                    [87 , 134, 58 ],\n",
    "                    [102, 43 , 37 ],\n",
    "                    [69 , 96 , 70 ]], dtype='float32')\n",
    "\n",
    "# Target\n",
    "\n",
    "y_train = np.array([[56 , 70 ],\n",
    "                    [81 , 101],\n",
    "                    [119, 133],\n",
    "                    [22 , 37 ],\n",
    "                    [103, 119],\n",
    "                    [56 , 70 ],\n",
    "                    [81 , 101],\n",
    "                    [119, 133],\n",
    "                    [22 , 37 ],\n",
    "                    [103, 119], \n",
    "                    [56 , 70 ],\n",
    "                    [81 , 101],\n",
    "                    [119, 133],\n",
    "                    [22 , 27 ],\n",
    "                    [103, 119]], dtype='float32')\n",
    "\n",
    "# convert into tensor\n",
    "\n",
    "inputs = torch.from_numpy(X_train)\n",
    "target = torch.from_numpy(y_train)\n",
    "print(\"input shape :\", inputs.size())\n",
    "print(\"target shape\", target.size())"
   ]
  },
  {
   "cell_type": "code",
   "execution_count": 4,
   "id": "4410a74e-2cce-4c77-a87a-7d7bf3f89410",
   "metadata": {},
   "outputs": [
    {
     "data": {
      "text/plain": [
       "(tensor([[ 73.,  67.,  43.],\n",
       "         [ 91.,  88.,  64.],\n",
       "         [ 87., 134.,  58.]]),\n",
       " tensor([[ 56.,  70.],\n",
       "         [ 81., 101.],\n",
       "         [119., 133.]]))"
      ]
     },
     "execution_count": 4,
     "metadata": {},
     "output_type": "execute_result"
    }
   ],
   "source": [
    "# define dataset\n",
    "\n",
    "train_ds = TensorDataset(inputs, target)\n",
    "train_ds[0:3]"
   ]
  },
  {
   "cell_type": "code",
   "execution_count": 5,
   "id": "2b09753c-d5ed-42cc-93d9-a2c12eb5eeb9",
   "metadata": {},
   "outputs": [],
   "source": [
    "# define data loader\n",
    "\n",
    "batch_size = 3\n",
    "train_dl = DataLoader(train_ds, batch_size, shuffle=True)"
   ]
  },
  {
   "cell_type": "code",
   "execution_count": 6,
   "id": "c3ae7787-4d2a-491e-ab58-f9757ecfcd77",
   "metadata": {},
   "outputs": [],
   "source": [
    "# define model\n",
    "\n",
    "model = nn.Linear(3, 2) #nn.linear assume this shape (in_features, out_features)"
   ]
  },
  {
   "cell_type": "code",
   "execution_count": 7,
   "id": "9cc6fce0-371d-4787-8d2c-d43c19f572e8",
   "metadata": {},
   "outputs": [],
   "source": [
    "# define loss function\n",
    "\n",
    "criterion_mse = nn.MSELoss()\n",
    "\n",
    "# define optimizer\n",
    "\n",
    "opt = torch.optim.SGD(model.parameters(), lr=0.0001, momentum=0.9)"
   ]
  },
  {
   "cell_type": "code",
   "execution_count": 8,
   "id": "3e54624d-0388-4a18-84b4-45a789aaafa9",
   "metadata": {},
   "outputs": [],
   "source": [
    "# train function\n",
    "\n",
    "def fit(num_epochs, model, loss_fn, opt, train_dl):\n",
    "    \n",
    "    # record loss for plot\n",
    "    loss_history = []\n",
    "    \n",
    "    # Repeat for given number of epochs\n",
    "    for epoch in range(num_epochs):\n",
    "        \n",
    "        # Train with batches of data\n",
    "        for inputs, target in train_dl:\n",
    "            \n",
    "            inputs.to(device)  # move to gpu if possible, it not, cpu\n",
    "            target.to(device)\n",
    "            \n",
    "            # 1. Predict\n",
    "            pred = model(inputs)\n",
    "            \n",
    "            # 2. Calculate loss\n",
    "            loss = loss_fn(pred, target)\n",
    "            # adding loss into the list\n",
    "            loss_history.append(loss)\n",
    "            \n",
    "            # 3. Calculate gradient\n",
    "            opt.zero_grad() # if not, gradients will accumulate\n",
    "            loss.backward()\n",
    "            \n",
    "            # 4. Update parameters using gradients\n",
    "            opt.step()\n",
    "        \n",
    "        # Print the progress\n",
    "        if (epoch+1) % 10 == 0:\n",
    "            sys.stdout.write(\"\\rEpoch [{}/{}], loss: {:.4f}\".format(epoch+1, num_epochs, loss.item()))"
   ]
  },
  {
   "cell_type": "code",
   "execution_count": 9,
   "id": "3b9fba00-cbfc-4017-96c0-93b9c20508d4",
   "metadata": {},
   "outputs": [
    {
     "name": "stdout",
     "output_type": "stream",
     "text": [
      "Epoch [100/100], loss: 30427.5996"
     ]
    }
   ],
   "source": [
    "# train for 100 epochs\n",
    "fit(100, model, criterion_mse, opt, train_dl)"
   ]
  },
  {
   "cell_type": "code",
   "execution_count": 10,
   "id": "686ac565-9262-463e-9999-690ae530c8a0",
   "metadata": {},
   "outputs": [
    {
     "name": "stdout",
     "output_type": "stream",
     "text": [
      "36872.20703125\n"
     ]
    }
   ],
   "source": [
    "# Generate predictions\n",
    "\n",
    "preds = model(inputs)\n",
    "loss = criterion_mse(preds, target)\n",
    "print(loss.item())"
   ]
  },
  {
   "cell_type": "code",
   "execution_count": null,
   "id": "f20f7087-70f3-47e5-81a0-511a8241f1a5",
   "metadata": {},
   "outputs": [],
   "source": [
    "p"
   ]
  },
  {
   "cell_type": "code",
   "execution_count": null,
   "id": "5b2b3959-a591-4096-959b-c8ce2418c222",
   "metadata": {},
   "outputs": [],
   "source": []
  }
 ],
 "metadata": {
  "kernelspec": {
   "display_name": "Python 3 (ipykernel)",
   "language": "python",
   "name": "python3"
  },
  "language_info": {
   "codemirror_mode": {
    "name": "ipython",
    "version": 3
   },
   "file_extension": ".py",
   "mimetype": "text/x-python",
   "name": "python",
   "nbconvert_exporter": "python",
   "pygments_lexer": "ipython3",
   "version": "3.9.7"
  }
 },
 "nbformat": 4,
 "nbformat_minor": 5
}
